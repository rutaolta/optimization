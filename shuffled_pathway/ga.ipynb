{
 "cells": [
  {
   "cell_type": "code",
   "execution_count": 33,
   "source": [
    "import numpy as np\n",
    "import random\n",
    "from typing import List\n",
    "import  matplotlib.pyplot as plt\n",
    "from scipy.special import loggamma"
   ],
   "outputs": [],
   "metadata": {}
  },
  {
   "cell_type": "code",
   "execution_count": 34,
   "source": [
    "def prob(M: np.matrix, order: List[int]):\n",
    "    p = 0.0\n",
    "    for i in range(1, len(order)):\n",
    "        sl = np.array(2 * M[:, order[i - 1]] + M[:, order[i]])\n",
    "        ns = [sum(sl == j) for j in range(0, 4)]\n",
    "        p -= loggamma(ns[0] + ns[1] + 1/2) + loggamma(ns[2] + ns[3] + 1/2)\n",
    "        p += sum(map(lambda n: loggamma(n + 1/4), ns))\n",
    "    return p"
   ],
   "outputs": [],
   "metadata": {}
  },
  {
   "cell_type": "code",
   "execution_count": 35,
   "source": [
    "def breed(seq1, seq2, subset_len=0.5):\n",
    "    seq1_len = seq1.shape[0]\n",
    "    start = np.random.randint(0, int(seq1_len * subset_len) - 1) \n",
    "    stop = start + int(seq1_len * subset_len) - 1\n",
    "    child = np.zeros_like(seq1) - 1\n",
    "    child[start: stop] = seq1[start: stop]\n",
    "    \n",
    "    seq_rev = list(reversed(seq2))\n",
    "    for i in range(seq1_len):\n",
    "        if child[i] == -1:\n",
    "            elem = -1\n",
    "            while(elem in child):\n",
    "                elem = seq_rev.pop()\n",
    "            \n",
    "            child[i] = elem\n",
    "    \n",
    "    return child"
   ],
   "outputs": [],
   "metadata": {}
  },
  {
   "cell_type": "code",
   "execution_count": 36,
   "source": [
    "def mutate(order):\n",
    "    i, j = random.sample(range(0, len(order) - 1), 2)\n",
    "    order[i], order[j] = order[j], order[i]\n",
    "    return order"
   ],
   "outputs": [],
   "metadata": {}
  },
  {
   "cell_type": "code",
   "execution_count": 37,
   "source": [
    "def ga(matrix, order, pop_size=150, elite_size=0.8, generations=200, mut_prob=0.01):\n",
    "    print('Initial: ', prob(matrix, order))\n",
    "    population = [random.sample(order, len(order)) for _ in range(pop_size)]\n",
    "    # population = [order for _ in range(pop_size)]\n",
    "    probs = []\n",
    "    probs_mean = []\n",
    "    for i in range(generations):\n",
    "    \n",
    "        # fitness function\n",
    "        ranked = sorted([(i, prob(matrix, x)) for i, x in enumerate(population)], \n",
    "                        reverse=True, key=lambda item: item[1])\n",
    "                        \n",
    "        # choose best in these generation\n",
    "        elite = ranked[0: int(pop_size * elite_size)]\n",
    "        elite_indexes = [i[0] for i in elite]\n",
    "\n",
    "        # breed\n",
    "        children = []\n",
    "        for _ in range(int(pop_size-pop_size*elite_size)):\n",
    "            i, j = random.sample(elite_indexes, 2)\n",
    "            children.append(breed(np.array(population[i]), np.array(population[j])))\n",
    "        population = [population[i] for i in elite_indexes] + children\n",
    "\n",
    "        # mutate\n",
    "        for i in range(len(population)):\n",
    "            if np.random.random() < mut_prob:\n",
    "                mutate(population[i])\n",
    "        probs_mean.append(np.mean([prob(matrix, elem) for elem in population[:5]]))\n",
    "        probs.append(prob(matrix, population[0]))\n",
    "    print('Final: ', probs[-1])\n",
    "    return probs, probs_mean"
   ],
   "outputs": [],
   "metadata": {}
  },
  {
   "cell_type": "code",
   "execution_count": 38,
   "source": [
    "def ga_plot(probs):    \n",
    "    plt.plot(probs)\n",
    "    plt.ylabel('Log Probability')\n",
    "    plt.xlabel('Generation')"
   ],
   "outputs": [],
   "metadata": {}
  },
  {
   "cell_type": "code",
   "execution_count": 39,
   "source": [
    "def test_mutate(order):\n",
    "    for _ in range(1000):\n",
    "        assert order == mutate(order)"
   ],
   "outputs": [],
   "metadata": {}
  },
  {
   "cell_type": "code",
   "execution_count": 40,
   "source": [
    "def test_perms(order):\n",
    "    for _ in range(1000):\n",
    "        seq1 = np.array(random.sample(order, len(order)))\n",
    "        seq2 = np.array(random.sample(order, len(order)))\n",
    "        child = breed(seq1, seq2, 0.5) \n",
    "        assert sum(child) == sum(seq1)"
   ],
   "outputs": [],
   "metadata": {}
  },
  {
   "cell_type": "code",
   "execution_count": 42,
   "source": [
    "    path = 'matrix.csv'\n",
    "    population = np.loadtxt(path, dtype='i', delimiter=' ')\n",
    "    order = [i for i in range(len(population[0]))]\n",
    "    order = random.sample(order, len(order))\n",
    "    probs, probs_mean = ga(population, order)\n",
    "    ga_plot(probs)\n",
    "    ga_plot(probs_mean)\n",
    "    plt.show()"
   ],
   "outputs": [
    {
     "output_type": "stream",
     "name": "stdout",
     "text": [
      "Initial:  -1006.5162822312509\n",
      "Final:  -880.6953277776759\n"
     ]
    },
    {
     "output_type": "display_data",
     "data": {
      "text/plain": [
       "<Figure size 432x288 with 1 Axes>"
      ],
      "image/png": "[encoded data removed]"
     },
     "metadata": {
      "needs_background": "light"
     }
    }
   ],
   "metadata": {}
  }
 ],
 "metadata": {
  "orig_nbformat": 4,
  "language_info": {
   "name": "python",
   "version": "3.8.10",
   "mimetype": "text/x-python",
   "codemirror_mode": {
    "name": "ipython",
    "version": 3
   },
   "pygments_lexer": "ipython3",
   "nbconvert_exporter": "python",
   "file_extension": ".py"
  },
  "kernelspec": {
   "name": "python3",
   "display_name": "Python 3.8.10 64-bit"
  },
  "interpreter": {
   "hash": "31f2aee4e71d21fbe5cf8b01ff0e069b9275f58929596ceb00d14d90e3e16cd6"
  }
 },
 "nbformat": 4,
 "nbformat_minor": 2
}