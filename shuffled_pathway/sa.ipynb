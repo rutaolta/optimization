{
 "cells": [
  {
   "cell_type": "code",
   "execution_count": 1,
   "source": [
    "import random\n",
    "import numpy as np\n",
    "from scipy import rand, randn\n",
    "from typing import List\n",
    "import  matplotlib.pyplot as plt\n",
    "from scipy.special import loggamma\n",
    "import copy"
   ],
   "outputs": [],
   "metadata": {}
  },
  {
   "cell_type": "code",
   "execution_count": 7,
   "source": [
    "def plot(probs):    \n",
    "    plt.plot(probs)\n",
    "    plt.ylabel('Log Probability')\n",
    "    plt.xlabel('Iteration')"
   ],
   "outputs": [],
   "metadata": {}
  },
  {
   "cell_type": "code",
   "execution_count": 3,
   "source": [
    "def prob(M: np.matrix, order: List[int]):\n",
    "    p = 0.0\n",
    "    for i in range(1, len(order)):\n",
    "        sl = np.array(2 * M[:, order[i - 1]] + M[:, order[i]])\n",
    "        ns = [sum(sl == j) for j in range(0, 4)]\n",
    "        p -= loggamma(ns[0] + ns[1] + 1/2) + loggamma(ns[2] + ns[3] + 1/2)\n",
    "        p += sum(map(lambda n: loggamma(n + 1/4), ns))\n",
    "    return p"
   ],
   "outputs": [],
   "metadata": {}
  },
  {
   "cell_type": "code",
   "execution_count": 4,
   "source": [
    "def move(state, times=1):\n",
    "    state_copy = copy.deepcopy(state)\n",
    "    for p in range(times):\n",
    "        i, j = random.sample(range(0, len(state) - 1), 2)\n",
    "        state_copy[i], state_copy[j] = state_copy[j], state_copy[i]\n",
    "    return state_copy"
   ],
   "outputs": [],
   "metadata": {}
  },
  {
   "cell_type": "code",
   "execution_count": 5,
   "source": [
    "# simulated annealing algorithm\n",
    "def simulated_annealing(matrix, order, n_iterations=100, iter_per_temp=50, temp=1, a=0.99, k=3):\n",
    "    solution = order\n",
    "    probs = []\n",
    "    prob_solution = 0\n",
    "    exps = []\n",
    "    prob_new_solution = 0\n",
    "    for i in range(n_iterations):\n",
    "    # for i in range(n_iterations):\n",
    "        for _ in range(iter_per_temp):\n",
    "            # t = 1 - (i + 1) / n_iterations\n",
    "            new_solution = move(solution)\n",
    "            # -100 - -99 = -100 + 99 = -1\n",
    "            prob_solution = prob(matrix, solution)\n",
    "            prob_new_solution = prob(matrix, new_solution)\n",
    "            delta = prob_solution - prob_new_solution\n",
    "            if prob_new_solution > prob_solution:\n",
    "                solution = new_solution\n",
    "                probs.append(prob_new_solution)\n",
    "            else:\n",
    "\n",
    "                exp = np.exp(-delta / temp)\n",
    "                # print(make_alg_info(temp, delta, (prob_solution - prob_new_solution) / temp, exp))\n",
    "               \n",
    "                if random.uniform(0, 1) < exp:\n",
    "                    solution = new_solution\n",
    "                    probs.append(prob_new_solution)\n",
    "        # if i % 10 == 0:\n",
    "        #     print(f\"Old solution {prob_solution}, new solution {prob_new_solution}\")\n",
    "        temp *= a\n",
    "        # print(f\"Current temperature {temp}\")\n",
    "\n",
    "        \n",
    "    return probs, solution, prob_solution, exps"
   ],
   "outputs": [],
   "metadata": {}
  },
  {
   "cell_type": "code",
   "execution_count": 8,
   "source": [
    "path = 'matrix.csv'\n",
    "matrix = np.loadtxt(path, dtype='i', delimiter=' ')\n",
    "order = [i for i in range(len(matrix[0]))]\n",
    "order = random.sample(order, len(order))\n",
    "probs, solution, prob_solution, exps = simulated_annealing(matrix, order)\n",
    "plot(probs)\n",
    "print(probs[-1])\n",
    "plt.show()"
   ],
   "outputs": [
    {
     "output_type": "stream",
     "name": "stdout",
     "text": [
      "-876.8391779195006\n"
     ]
    },
    {
     "output_type": "display_data",
     "data": {
      "text/plain": [
       "<Figure size 432x288 with 1 Axes>"
      ],
      "image/png": "[encoded data removed]"
     },
     "metadata": {
      "needs_background": "light"
     }
    }
   ],
   "metadata": {}
  }
 ],
 "metadata": {
  "orig_nbformat": 4,
  "language_info": {
   "name": "python",
   "version": "3.8.10",
   "mimetype": "text/x-python",
   "codemirror_mode": {
    "name": "ipython",
    "version": 3
   },
   "pygments_lexer": "ipython3",
   "nbconvert_exporter": "python",
   "file_extension": ".py"
  },
  "kernelspec": {
   "name": "python3",
   "display_name": "Python 3.8.10 64-bit"
  },
  "interpreter": {
   "hash": "31f2aee4e71d21fbe5cf8b01ff0e069b9275f58929596ceb00d14d90e3e16cd6"
  }
 },
 "nbformat": 4,
 "nbformat_minor": 2
}