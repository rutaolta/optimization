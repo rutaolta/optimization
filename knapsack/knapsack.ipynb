{
 "cells": [
  {
   "cell_type": "markdown",
   "source": [
    "# imports"
   ],
   "metadata": {}
  },
  {
   "cell_type": "code",
   "execution_count": 14,
   "source": [
    "import pandas as pd\n",
    "import numpy as np\n",
    "from sympy import *\n",
    "import cylp.cy.CyClpSimplex as LP\n",
    "import scipy.sparse as sp"
   ],
   "outputs": [],
   "metadata": {}
  },
  {
   "cell_type": "markdown",
   "source": [
    "# data preparation"
   ],
   "metadata": {}
  },
  {
   "cell_type": "code",
   "execution_count": 15,
   "source": [
    "knapsack = pd.read_csv('knapsack_0.csv', sep=\" \", names=['item', 'prize', 'weight'])\n",
    "knapsack"
   ],
   "outputs": [
    {
     "output_type": "execute_result",
     "data": {
      "text/plain": [
       "        item  prize  weight\n",
       "0     Laptop     10    0.50\n",
       "1  Flashcard      5    0.01\n",
       "2  Cryptokey      1    0.01\n",
       "3       Lamp      1    5.00\n",
       "4    Battery      1    0.05\n",
       "5    Charger      0    0.01"
      ],
      "text/html": [
       "<div>\n",
       "<style scoped>\n",
       "    .dataframe tbody tr th:only-of-type {\n",
       "        vertical-align: middle;\n",
       "    }\n",
       "\n",
       "    .dataframe tbody tr th {\n",
       "        vertical-align: top;\n",
       "    }\n",
       "\n",
       "    .dataframe thead th {\n",
       "        text-align: right;\n",
       "    }\n",
       "</style>\n",
       "<table border=\"1\" class=\"dataframe\">\n",
       "  <thead>\n",
       "    <tr style=\"text-align: right;\">\n",
       "      <th></th>\n",
       "      <th>item</th>\n",
       "      <th>prize</th>\n",
       "      <th>weight</th>\n",
       "    </tr>\n",
       "  </thead>\n",
       "  <tbody>\n",
       "    <tr>\n",
       "      <th>0</th>\n",
       "      <td>Laptop</td>\n",
       "      <td>10</td>\n",
       "      <td>0.50</td>\n",
       "    </tr>\n",
       "    <tr>\n",
       "      <th>1</th>\n",
       "      <td>Flashcard</td>\n",
       "      <td>5</td>\n",
       "      <td>0.01</td>\n",
       "    </tr>\n",
       "    <tr>\n",
       "      <th>2</th>\n",
       "      <td>Cryptokey</td>\n",
       "      <td>1</td>\n",
       "      <td>0.01</td>\n",
       "    </tr>\n",
       "    <tr>\n",
       "      <th>3</th>\n",
       "      <td>Lamp</td>\n",
       "      <td>1</td>\n",
       "      <td>5.00</td>\n",
       "    </tr>\n",
       "    <tr>\n",
       "      <th>4</th>\n",
       "      <td>Battery</td>\n",
       "      <td>1</td>\n",
       "      <td>0.05</td>\n",
       "    </tr>\n",
       "    <tr>\n",
       "      <th>5</th>\n",
       "      <td>Charger</td>\n",
       "      <td>0</td>\n",
       "      <td>0.01</td>\n",
       "    </tr>\n",
       "  </tbody>\n",
       "</table>\n",
       "</div>"
      ]
     },
     "metadata": {},
     "execution_count": 15
    }
   ],
   "metadata": {}
  },
  {
   "cell_type": "code",
   "execution_count": 16,
   "source": [
    "def dependencies_parser(lines):\n",
    "    result = ''\n",
    "    lines = [line.strip().split() for line in lines]\n",
    "    for line in lines:\n",
    "        if len(line) > 2:\n",
    "            result += ' AND' + ' (' + ' OR '.join(line[0:-1]) + ') -> ' + line[-1] \n",
    "        else:\n",
    "            result += ' AND ' + line[0] + ' -> ' + line[1] \n",
    "\n",
    "    return result[5:]"
   ],
   "outputs": [],
   "metadata": {}
  },
  {
   "cell_type": "code",
   "execution_count": 17,
   "source": [
    "def dependencies_to_dir(lines):\n",
    "    result = {}\n",
    "    lines = [line.strip().split() for line in lines]\n",
    "    for line in lines:\n",
    "        result[line[-1]] = line[0:-1]\n",
    "    return result"
   ],
   "outputs": [],
   "metadata": {}
  },
  {
   "cell_type": "code",
   "execution_count": 18,
   "source": [
    "with open(\"dependencies.txt\") as f:\n",
    "    # dependencies = dependencies_parser(f.readlines())\n",
    "    dependencies = [line.strip().split() for line in f.readlines()]\n",
    "dependencies"
   ],
   "outputs": [
    {
     "output_type": "execute_result",
     "data": {
      "text/plain": [
       "[['Cryptokey', 'Flashcard'],\n",
       " ['Flashcard', 'Laptop'],\n",
       " ['Battery', 'Charger', 'Laptop']]"
      ]
     },
     "metadata": {},
     "execution_count": 18
    }
   ],
   "metadata": {}
  },
  {
   "cell_type": "code",
   "execution_count": 19,
   "source": [
    "knapsack_vol = pd.read_csv('knapsack.csv', sep=\" \", names=['item', 'prize', 'weight', 'volume'])\n",
    "knapsack_vol"
   ],
   "outputs": [
    {
     "output_type": "execute_result",
     "data": {
      "text/plain": [
       "        item  prize  weight  volume\n",
       "0     Laptop     10    0.50    0.20\n",
       "1  Flashcard      5    0.01    0.02\n",
       "2  Cryptokey      1    0.01    0.02\n",
       "3       Lamp      1    5.00    1.00\n",
       "4    Battery      1    0.05    0.06\n",
       "5    Charger      0    0.01    0.06"
      ],
      "text/html": [
       "<div>\n",
       "<style scoped>\n",
       "    .dataframe tbody tr th:only-of-type {\n",
       "        vertical-align: middle;\n",
       "    }\n",
       "\n",
       "    .dataframe tbody tr th {\n",
       "        vertical-align: top;\n",
       "    }\n",
       "\n",
       "    .dataframe thead th {\n",
       "        text-align: right;\n",
       "    }\n",
       "</style>\n",
       "<table border=\"1\" class=\"dataframe\">\n",
       "  <thead>\n",
       "    <tr style=\"text-align: right;\">\n",
       "      <th></th>\n",
       "      <th>item</th>\n",
       "      <th>prize</th>\n",
       "      <th>weight</th>\n",
       "      <th>volume</th>\n",
       "    </tr>\n",
       "  </thead>\n",
       "  <tbody>\n",
       "    <tr>\n",
       "      <th>0</th>\n",
       "      <td>Laptop</td>\n",
       "      <td>10</td>\n",
       "      <td>0.50</td>\n",
       "      <td>0.20</td>\n",
       "    </tr>\n",
       "    <tr>\n",
       "      <th>1</th>\n",
       "      <td>Flashcard</td>\n",
       "      <td>5</td>\n",
       "      <td>0.01</td>\n",
       "      <td>0.02</td>\n",
       "    </tr>\n",
       "    <tr>\n",
       "      <th>2</th>\n",
       "      <td>Cryptokey</td>\n",
       "      <td>1</td>\n",
       "      <td>0.01</td>\n",
       "      <td>0.02</td>\n",
       "    </tr>\n",
       "    <tr>\n",
       "      <th>3</th>\n",
       "      <td>Lamp</td>\n",
       "      <td>1</td>\n",
       "      <td>5.00</td>\n",
       "      <td>1.00</td>\n",
       "    </tr>\n",
       "    <tr>\n",
       "      <th>4</th>\n",
       "      <td>Battery</td>\n",
       "      <td>1</td>\n",
       "      <td>0.05</td>\n",
       "      <td>0.06</td>\n",
       "    </tr>\n",
       "    <tr>\n",
       "      <th>5</th>\n",
       "      <td>Charger</td>\n",
       "      <td>0</td>\n",
       "      <td>0.01</td>\n",
       "      <td>0.06</td>\n",
       "    </tr>\n",
       "  </tbody>\n",
       "</table>\n",
       "</div>"
      ]
     },
     "metadata": {},
     "execution_count": 19
    }
   ],
   "metadata": {}
  },
  {
   "cell_type": "code",
   "execution_count": 20,
   "source": [
    "oversized = pd.read_csv('oversized.csv', sep=\" \", names=['item', 'volume'])\n",
    "oversized = {oversized.item[i] : oversized.volume[i] for i in range(len(oversized))}\n",
    "oversized"
   ],
   "outputs": [
    {
     "output_type": "execute_result",
     "data": {
      "text/plain": [
       "{'Laptop': 0.05, 'Lamp': 0.01}"
      ]
     },
     "metadata": {},
     "execution_count": 20
    }
   ],
   "metadata": {}
  },
  {
   "cell_type": "markdown",
   "source": [
    "# knapsack problem"
   ],
   "metadata": {}
  },
  {
   "cell_type": "code",
   "execution_count": 21,
   "source": [
    "# solver\n",
    "def solve_knapsack(knapsack, W):\n",
    "    p, w, n = np.array(knapsack.prize), np.array(knapsack.weight), len(np.array(knapsack.prize))\n",
    "    model = LP()\n",
    "    x = model.addVariable('x', n, isInt=True)\n",
    "    model.objective = -p\n",
    "    model += sp.eye(n) * x >= np.zeros(n)\n",
    "    model += sp.eye(n) * x <= np.ones(n)\n",
    "    model += np.matrix(w) * x <= W\n",
    "    cbcModel = model.getCbcModel()\n",
    "    cbcModel.logLevel = False\n",
    "    cbcModel.solve()\n",
    "    solution = np.array(cbcModel.primalVariableSolution['x'].round()).astype(int) \n",
    "    return ' '.join([knapsack.item[i] if v==1 else '' for i, v in enumerate(solution)])"
   ],
   "outputs": [],
   "metadata": {}
  },
  {
   "cell_type": "code",
   "execution_count": 27,
   "source": [
    "# results\n",
    "for i in np.arange(0, 0.11, 0.01):\n",
    "    print(str(i), ':\\t', solve_knapsack(knapsack, i))\n",
    "print('...')\n",
    "for i in np.arange(0.49, 0.511, 0.01):\n",
    "    print(str(i), ':\\t', solve_knapsack(knapsack, i))\n",
    "print('...')\n",
    "print(0.53, ':\\t', solve_knapsack(knapsack, 0.53))\n",
    "print('...')\n",
    "print(0.57, ':\\t', solve_knapsack(knapsack, 0.57))\n",
    "print('...')\n",
    "for i in np.arange(4.99, 5.011, 0.01):\n",
    "    print(str(i), ':\\t', solve_knapsack(knapsack, i))\n",
    "print('...')\n",
    "print(6.0, ':\\t', solve_knapsack(knapsack, 6.0))\n"
   ],
   "outputs": [
    {
     "output_type": "stream",
     "name": "stdout",
     "text": [
      "0.0 :\t      \n",
      "0.01 :\t  Flashcard    \n",
      "0.02 :\t  Flashcard Cryptokey   \n",
      "0.03 :\t  Flashcard Cryptokey   \n",
      "0.04 :\t  Flashcard Cryptokey   \n",
      "0.05 :\t  Flashcard Cryptokey   \n",
      "0.06 :\t  Flashcard Cryptokey   \n",
      "0.07 :\t  Flashcard Cryptokey  Battery \n",
      "0.08 :\t  Flashcard Cryptokey  Battery \n",
      "0.09 :\t  Flashcard Cryptokey  Battery \n",
      "0.1 :\t  Flashcard Cryptokey  Battery \n",
      "...\n",
      "0.49 :\t  Flashcard Cryptokey  Battery \n",
      "0.5 :\t Laptop     \n",
      "0.51 :\t Laptop Flashcard    \n",
      "...\n",
      "0.53 :\t Laptop Flashcard Cryptokey   \n",
      "...\n",
      "0.57 :\t Laptop Flashcard Cryptokey  Battery \n",
      "...\n",
      "4.99 :\t Laptop Flashcard Cryptokey  Battery \n",
      "5.0 :\t Laptop Flashcard Cryptokey  Battery \n",
      "5.01 :\t Laptop Flashcard Cryptokey  Battery \n",
      "...\n",
      "6.0 :\t Laptop Flashcard Cryptokey Lamp Battery \n"
     ]
    }
   ],
   "metadata": {}
  },
  {
   "cell_type": "markdown",
   "source": [
    "# knapsack problem with dependencies"
   ],
   "metadata": {}
  },
  {
   "cell_type": "code",
   "execution_count": 23,
   "source": [
    "# solver\n",
    "def solve_knapsack_dep(knapsack, W, dependencies):\n",
    "    p, w, items = np.array(knapsack.prize), np.array(knapsack.weight), list(knapsack.item)\n",
    "    n = len(p)\n",
    "    model = LP()\n",
    "    x = model.addVariable('x', n, isInt=True)\n",
    "    model.objective = -p\n",
    "    model += sp.eye(n) * x >= np.zeros(n)\n",
    "    model += sp.eye(n) * x <= np.ones(n)\n",
    "    model += np.matrix(w) * x <= W\n",
    "    for d in dependencies:\n",
    "        model += sum([x[items.index(i)] for i in d[0:-1]]) - x[items.index(d[-1])] >= 0\n",
    "    cbcModel = model.getCbcModel()\n",
    "    cbcModel.logLevel = False\n",
    "    cbcModel.solve()\n",
    "    solution = np.array(cbcModel.primalVariableSolution['x'].round()).astype(int) \n",
    "    return ' '.join([knapsack.item[i] if v==1 else '' for i, v in enumerate(solution)])\n"
   ],
   "outputs": [],
   "metadata": {}
  },
  {
   "cell_type": "code",
   "execution_count": 24,
   "source": [
    "# results\n",
    "for i in np.arange(0, 0.11, 0.01):\n",
    "    print(str(i), ':\\t', solve_knapsack_dep(knapsack, i, dependencies))\n",
    "print('...')\n",
    "for i in np.arange(0.49, 0.511, 0.01):\n",
    "    print(str(i), ':\\t', solve_knapsack_dep(knapsack, i, dependencies))\n",
    "print('...')\n",
    "print(0.53, ':\\t', solve_knapsack_dep(knapsack, 0.53, dependencies))\n",
    "print('...')\n",
    "print(0.57, ':\\t', solve_knapsack_dep(knapsack, 0.57, dependencies))\n",
    "print('...')\n",
    "for i in np.arange(4.99, 5.011, 0.01):\n",
    "    print(str(i), ':\\t', solve_knapsack_dep(knapsack, i, dependencies))\n",
    "print('...')\n",
    "print(6.0, ':\\t', solve_knapsack_dep(knapsack, 6.0, dependencies))\n",
    "print('...')"
   ],
   "outputs": [
    {
     "output_type": "stream",
     "name": "stdout",
     "text": [
      "0.0 :\t      \n",
      "0.01 :\t   Cryptokey   \n",
      "0.02 :\t  Flashcard Cryptokey   \n",
      "0.03 :\t  Flashcard Cryptokey   \n",
      "0.04 :\t  Flashcard Cryptokey   \n",
      "0.05 :\t  Flashcard Cryptokey   \n",
      "0.06 :\t  Flashcard Cryptokey   \n",
      "0.07 :\t  Flashcard Cryptokey  Battery \n",
      "0.08 :\t  Flashcard Cryptokey  Battery \n",
      "0.09 :\t  Flashcard Cryptokey  Battery \n",
      "0.1 :\t  Flashcard Cryptokey  Battery \n",
      "...\n",
      "0.49 :\t  Flashcard Cryptokey  Battery \n",
      "0.5 :\t  Flashcard Cryptokey  Battery \n",
      "0.51 :\t  Flashcard Cryptokey  Battery \n",
      "...\n",
      "0.53 :\t Laptop Flashcard Cryptokey   Charger\n",
      "...\n",
      "0.57 :\t Laptop Flashcard Cryptokey  Battery \n",
      "...\n",
      "4.99 :\t Laptop Flashcard Cryptokey  Battery \n",
      "5.0 :\t Laptop Flashcard Cryptokey  Battery \n",
      "5.01 :\t Laptop Flashcard Cryptokey  Battery \n",
      "...\n",
      "6.0 :\t Laptop Flashcard Cryptokey Lamp Battery Charger\n",
      "...\n"
     ]
    }
   ],
   "metadata": {}
  },
  {
   "cell_type": "markdown",
   "source": [
    "# knapsack problem with oversize items"
   ],
   "metadata": {}
  },
  {
   "cell_type": "code",
   "execution_count": 25,
   "source": [
    "# solver\n",
    "def solve_knapsack_vol(knapsack, W, oversized):\n",
    "    p, w, v = np.array(knapsack.prize), np.array(knapsack.weight), np.array(knapsack.volume)\n",
    "    items = list(knapsack_vol.item)\n",
    "    n = len(p)\n",
    "    model = LP()\n",
    "    x = model.addVariable('x', n, isInt=True)\n",
    "    y = {}\n",
    "    for key in oversized:\n",
    "        y[key] = model.addVariable('y'+key, n, isInt=True)\n",
    "    \n",
    "    model.objective = -p\n",
    "    model += sp.eye(n) * x >= np.zeros(n)\n",
    "    model += sp.eye(n) * x <= np.ones(n)\n",
    "    for key in oversized:\n",
    "        model += sp.eye(n) * y[key] >= np.zeros(n)\n",
    "        model += sp.eye(n) * y[key] <= np.ones(n)\n",
    "    model += np.matrix(w) * x <= W\n",
    "    \n",
    "    for oitem, ovolume in oversized.items():\n",
    "        for i in range(n):\n",
    "            model += x[i] + x[items.index(oitem)] - y[oitem][i] <= 1\n",
    "            if i != items.index(oitem):\n",
    "                model += v[i] * y[oitem][i] <= ovolume\n",
    "\n",
    "    cbcModel = model.getCbcModel()\n",
    "    cbcModel.logLevel = False\n",
    "    cbcModel.solve()\n",
    "    solution = np.array(cbcModel.primalVariableSolution['x'].round()).astype(int) \n",
    "    return ' '.join([knapsack.item[i] if v==1 else '' for i, v in enumerate(solution)])"
   ],
   "outputs": [],
   "metadata": {}
  },
  {
   "cell_type": "code",
   "execution_count": 26,
   "source": [
    "# results\n",
    "for i in np.arange(0, 0.11, 0.01):\n",
    "    print(str(i), ':\\t', solve_knapsack_vol(knapsack_vol, i, oversized))\n",
    "print('...')\n",
    "for i in np.arange(0.49, 0.511, 0.01):\n",
    "    print(str(i), ':\\t', solve_knapsack_vol(knapsack_vol, i, oversized))\n",
    "print('...')\n",
    "print(0.53, ':\\t', solve_knapsack_vol(knapsack_vol, 0.53, oversized))\n",
    "print('...')\n",
    "print(0.57, ':\\t', solve_knapsack_vol(knapsack_vol, 0.57, oversized))\n",
    "print('...')\n",
    "for i in np.arange(4.99, 5.011, 0.01):\n",
    "    print(str(i), ':\\t', solve_knapsack_vol(knapsack_vol, i, oversized))\n",
    "print('...')\n",
    "print(6.0, ':\\t', solve_knapsack_vol(knapsack_vol, 6.0, oversized))"
   ],
   "outputs": [
    {
     "output_type": "stream",
     "name": "stdout",
     "text": [
      "0.0 :\t      \n",
      "0.01 :\t  Flashcard    \n",
      "0.02 :\t  Flashcard Cryptokey   \n",
      "0.03 :\t  Flashcard Cryptokey   \n",
      "0.04 :\t  Flashcard Cryptokey   \n",
      "0.05 :\t  Flashcard Cryptokey   \n",
      "0.06 :\t  Flashcard Cryptokey   \n",
      "0.07 :\t  Flashcard Cryptokey  Battery \n",
      "0.08 :\t  Flashcard Cryptokey  Battery \n",
      "0.09 :\t  Flashcard Cryptokey  Battery \n",
      "0.1 :\t  Flashcard Cryptokey  Battery \n",
      "...\n",
      "0.49 :\t  Flashcard Cryptokey  Battery \n",
      "0.5 :\t Laptop     \n",
      "0.51 :\t Laptop Flashcard    \n",
      "...\n",
      "0.53 :\t Laptop Flashcard Cryptokey   \n",
      "...\n",
      "0.57 :\t Laptop Flashcard Cryptokey   \n",
      "...\n",
      "4.99 :\t Laptop Flashcard Cryptokey   \n",
      "5.0 :\t Laptop Flashcard Cryptokey   \n",
      "5.01 :\t Laptop Flashcard Cryptokey   \n",
      "...\n",
      "6.0 :\t Laptop Flashcard Cryptokey   \n"
     ]
    }
   ],
   "metadata": {}
  }
 ],
 "metadata": {
  "orig_nbformat": 4,
  "language_info": {
   "name": "python",
   "version": "3.9.7",
   "mimetype": "text/x-python",
   "codemirror_mode": {
    "name": "ipython",
    "version": 3
   },
   "pygments_lexer": "ipython3",
   "nbconvert_exporter": "python",
   "file_extension": ".py"
  },
  "kernelspec": {
   "name": "python3",
   "display_name": "Python 3.9.7 64-bit ('base': conda)"
  },
  "interpreter": {
   "hash": "41dad33ac27be026cb602e0a62f760d014741d4939993a4186ae922aa189125a"
  }
 },
 "nbformat": 4,
 "nbformat_minor": 2
}